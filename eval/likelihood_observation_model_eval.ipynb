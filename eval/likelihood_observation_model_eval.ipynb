{
 "cells": [
  {
   "cell_type": "markdown",
   "metadata": {},
   "source": [
    "# Correctness test for Beam end-point(likelihood field) Observation Model from Gmapping Code"
   ]
  },
  {
   "cell_type": "code",
   "execution_count": 3,
   "metadata": {
    "collapsed": true
   },
   "outputs": [],
   "source": [
    "import numpy as np\n",
    "import matplotlib.pyplot as plt \n",
    "import copy\n",
    "import math\n",
    "\n",
    "%matplotlib inline"
   ]
  },
  {
   "cell_type": "code",
   "execution_count": 33,
   "metadata": {},
   "outputs": [],
   "source": [
    "def likelihood_endpoint_model(measure, predict, lsigma=0.075):\n",
    "    l = 1.0\n",
    "    for z_m, z_p in zip(measure, predict):\n",
    "        d = z_m - z_p\n",
    "        # l *= (1.0/(lsigma*math.sqrt(2.0*math.pi))*math.exp(-1.0*(d*d)/(2.0*lsigma*lsigma)))\n",
    "        l *= math.exp(-1.0*(d*d)/(2.0*lsigma*lsigma))\n",
    "    return l"
   ]
  },
  {
   "cell_type": "code",
   "execution_count": 34,
   "metadata": {
    "collapsed": true
   },
   "outputs": [],
   "source": [
    "def log_likelihood_endpoint_model(measure, predict, lsigma=0.075):\n",
    "    l = 0\n",
    "    for z_m, z_p in zip(measure, predict):\n",
    "        d = z_m - z_p\n",
    "        l += -1.0*(d*d)/(2.0*lsigma*lsigma)\n",
    "    \n",
    "    return l"
   ]
  },
  {
   "cell_type": "code",
   "execution_count": 35,
   "metadata": {},
   "outputs": [],
   "source": [
    "z_theta = [0.0, math.pi/6. , math.pi/3., math.pi/2., math.pi- math.pi/3., math.pi- math.pi/6., math.pi]\n",
    "z_mes_1 = [1.2, 1.4, 2.5, 3.0, 2.5, 1.3, 1.0] # Current Lidar Measure (r, theta)\n",
    "z_pred_1 = [1.3, 1.8, 2.55, 2.9, 2.5, 1.3, 0.9] # Map correspondence"
   ]
  },
  {
   "cell_type": "code",
   "execution_count": 36,
   "metadata": {
    "collapsed": true
   },
   "outputs": [],
   "source": [
    "# More mistakes\n",
    "z_mes_2 = [1.2, 1.4, 2.5, 3.0, 2.5, 1.3, 1.0] # Current Lidar Measure (r, theta)\n",
    "z_pred_2 = [1.3, 1.8, 2.55, 2.9, 2.4, 1.9, 0.9] # Map correspondence"
   ]
  },
  {
   "cell_type": "code",
   "execution_count": 40,
   "metadata": {},
   "outputs": [
    {
     "name": "stdout",
     "output_type": "stream",
     "text": [
      "-6.66666666667\n"
     ]
    }
   ],
   "source": [
    "nohit = -0.5/0.075\n",
    "print nohit"
   ]
  },
  {
   "cell_type": "code",
   "execution_count": 37,
   "metadata": {},
   "outputs": [
    {
     "name": "stdout",
     "output_type": "stream",
     "text": [
      "l1=3.70457903993e-08 , l2=1.92874984796e-22\n",
      "r = 1.92071514294e+14\n",
      "ln(r) = 0.342222222222\n"
     ]
    }
   ],
   "source": [
    "l1 = likelihood_endpoint_model(z_mes_1, z_pred_1)\n",
    "l2 = likelihood_endpoint_model(z_mes_2, z_pred_2)\n",
    "\n",
    "print \"l1={} , l2={}\".format(l1,l2)\n",
    "print \"r = {}\".format(l1 / l2)\n",
    "print \"ln(r) = {}\".format(math.log(l1) / math.log(l2))"
   ]
  },
  {
   "cell_type": "code",
   "execution_count": 38,
   "metadata": {},
   "outputs": [
    {
     "name": "stdout",
     "output_type": "stream",
     "text": [
      "l1=-17.1111111111 , l2=-50.0\n",
      "r = 0.342222222222\n"
     ]
    }
   ],
   "source": [
    "l1 = log_likelihood_endpoint_model(z_mes_1, z_pred_1)\n",
    "l2 = log_likelihood_endpoint_model(z_mes_2, z_pred_2)\n",
    "\n",
    "print \"l1={} , l2={}\".format(l1,l2)\n",
    "print \"r = {}\".format(l1 / l2)"
   ]
  },
  {
   "cell_type": "code",
   "execution_count": 39,
   "metadata": {},
   "outputs": [
    {
     "data": {
      "text/plain": [
       "6.666666666666667"
      ]
     },
     "execution_count": 39,
     "metadata": {},
     "output_type": "execute_result"
    }
   ],
   "source": [
    "0.5/0.075"
   ]
  },
  {
   "cell_type": "code",
   "execution_count": 27,
   "metadata": {},
   "outputs": [
    {
     "name": "stdout",
     "output_type": "stream",
     "text": [
      "Help on built-in function log in module math:\n",
      "\n",
      "log(...)\n",
      "    log(x[, base])\n",
      "    \n",
      "    Return the logarithm of x to the given base.\n",
      "    If the base not specified, returns the natural logarithm (base e) of x.\n",
      "\n"
     ]
    }
   ],
   "source": [
    "help(math.log)"
   ]
  },
  {
   "cell_type": "code",
   "execution_count": 32,
   "metadata": {},
   "outputs": [
    {
     "data": {
      "text/plain": [
       "-8.888888888888889e+37"
      ]
     },
     "execution_count": 32,
     "metadata": {},
     "output_type": "execute_result"
    }
   ],
   "source": [
    "log_likelihood_endpoint_model([0.0], [999999999999999999])"
   ]
  },
  {
   "cell_type": "code",
   "execution_count": null,
   "metadata": {
    "collapsed": true
   },
   "outputs": [],
   "source": []
  }
 ],
 "metadata": {
  "kernelspec": {
   "display_name": "Python 2",
   "language": "python",
   "name": "python2"
  },
  "language_info": {
   "codemirror_mode": {
    "name": "ipython",
    "version": 2
   },
   "file_extension": ".py",
   "mimetype": "text/x-python",
   "name": "python",
   "nbconvert_exporter": "python",
   "pygments_lexer": "ipython2",
   "version": "2.7.12"
  }
 },
 "nbformat": 4,
 "nbformat_minor": 2
}
